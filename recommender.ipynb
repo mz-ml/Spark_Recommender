{
 "cells": [
  {
   "cell_type": "markdown",
   "metadata": {},
   "source": [
    "# Movie Recommendation"
   ]
  },
  {
   "cell_type": "markdown",
   "metadata": {},
   "source": [
    ">Ming Zhao <br>\n",
    ">December 28, 2021"
   ]
  },
  {
   "cell_type": "markdown",
   "metadata": {},
   "source": [
    "Recommendation systems become more and more important for ecommerce platforms. <br>\n",
    "\n",
    "In this project, I use Alternating Least Squares (ALS) to predict movie ratings and apply item-based filtering to identify movie similarities using [MovieLens small dataset](https://grouplens.org/datasets/movielens/latest/) with the DataFram API. Additionally, I write functions to recommend movies to any given user and find similar movies for any given movie. <br>\n",
    " \n",
    "**Step1. Data Loading and Exploration** <br>\n",
    "Load the rating data; establish corresponding spark dataframes; check the basic information of the dataset. <br>\n",
    "\n",
    "**Step2. Online Analytical Processing (OLAP)** [Spark SQL] <br>\n",
    "Find the number of users, movies, rated movies; list unrated movies, movie genres, movies in each genre. <br>\n",
    "\n",
    "**Step3. Data Preprocessing** <br>\n",
    "Keep necessary columns; change the data type from string to numeric; separate the data to 80% training and 20% testing.\n",
    "\n",
    "**Step4. Model Selection** [Spark ML] <br> \n",
    "Build the ALS model and tune the hyperparameter using 5-fold corss-validation by applying the optimal hyperparameters on the final model. <br>\n",
    "\n",
    "**Step5. Model Evaluation** <br>\n",
    "Evaluate the recommendation model by measuring the root mean square error of rating predictions on the testing set. <br>\n",
    "\n",
    "**Step6. Model Application: Recommend Movies to Users** <br>\n",
    "Recommend movies for any given users based on the ALS model. <br>\n",
    "\n",
    "**Step7. Model Application: Find Similar Movies** <br>\n",
    "Find similar movies for any given movies based on the item-based method. <br>\n",
    "\n",
    "For the best ALS model, its hyperparameters are: maxIter=10, rank=15, regParam=0.1. The root mean squared error (RMSE) on the testing data is 0.88 and on the whole data is 0.61. <br>\n",
    "<br>\n"
   ]
  },
  {
   "cell_type": "code",
   "execution_count": 1,
   "metadata": {},
   "outputs": [
    {
     "name": "stderr",
     "output_type": "stream",
     "text": [
      "22/02/02 04:37:48 WARN NativeCodeLoader: Unable to load native-hadoop library for your platform... using builtin-java classes where applicable\n"
     ]
    }
   ],
   "source": [
    "import findspark\n",
    "findspark.init()\n",
    "from pyspark.sql import SparkSession\n",
    "spark = SparkSession.builder.config('spark.ui.port','4041').master(\"local[4]\").getOrCreate()"
   ]
  },
  {
   "cell_type": "code",
   "execution_count": 2,
   "metadata": {},
   "outputs": [
    {
     "data": {
      "text/plain": [
       "'3.2.1'"
      ]
     },
     "execution_count": 2,
     "metadata": {},
     "output_type": "execute_result"
    }
   ],
   "source": [
    "spark.version"
   ]
  },
  {
   "cell_type": "code",
   "execution_count": 3,
   "metadata": {},
   "outputs": [],
   "source": [
    "import numpy as np\n",
    "import pandas as pd\n",
    "import seaborn as sns\n",
    "import matplotlib.pyplot as plt\n",
    "import plotnine as p9\n",
    "import math\n",
    "%matplotlib inline"
   ]
  },
  {
   "cell_type": "code",
   "execution_count": 4,
   "metadata": {},
   "outputs": [],
   "source": [
    "from pyspark.sql.types import IntegerType, FloatType\n",
    "from pyspark.ml.evaluation import RegressionEvaluator\n",
    "from pyspark.ml.recommendation import ALS\n",
    "from pyspark.ml.tuning import CrossValidator, ParamGridBuilder"
   ]
  },
  {
   "cell_type": "code",
   "execution_count": 5,
   "metadata": {},
   "outputs": [],
   "source": [
    "#!pip install koalas\n",
    "#import databricks.koalas as ks\n",
    "#to_koalas()\n",
    "import os\n",
    "os.environ[\"PYARROW_IGNORE_TIMEZONE\"] = \"1\"\n",
    "import pyspark.pandas as ps\n",
    "#to_pandas_on_spark()"
   ]
  },
  {
   "cell_type": "code",
   "execution_count": 6,
   "metadata": {},
   "outputs": [],
   "source": [
    "import warnings\n",
    "warnings.filterwarnings(\"ignore\") "
   ]
  },
  {
   "cell_type": "markdown",
   "metadata": {},
   "source": [
    "## 1. Data Loading and Exploration"
   ]
  },
  {
   "cell_type": "markdown",
   "metadata": {},
   "source": [
    "### Data Loading"
   ]
  },
  {
   "cell_type": "code",
   "execution_count": 7,
   "metadata": {},
   "outputs": [],
   "source": [
    "df_movies = spark.read.load(\"data/movies.csv\", format='csv', header = True)\n",
    "df_ratings = spark.read.load(\"data/ratings.csv\", format='csv', header = True) \n",
    "df_links = spark.read.load(\"data/links.csv\", format='csv', header = True) \n",
    "df_tags = spark.read.load(\"data/tags.csv\", format='csv', header = True) "
   ]
  },
  {
   "cell_type": "markdown",
   "metadata": {},
   "source": [
    "### Data Exploration"
   ]
  },
  {
   "cell_type": "code",
   "execution_count": 8,
   "metadata": {},
   "outputs": [
    {
     "name": "stdout",
     "output_type": "stream",
     "text": [
      "+-------+--------------------+--------------------+\n",
      "|movieId|               title|              genres|\n",
      "+-------+--------------------+--------------------+\n",
      "|      1|    Toy Story (1995)|Adventure|Animati...|\n",
      "|      2|      Jumanji (1995)|Adventure|Childre...|\n",
      "|      3|Grumpier Old Men ...|      Comedy|Romance|\n",
      "|      4|Waiting to Exhale...|Comedy|Drama|Romance|\n",
      "|      5|Father of the Bri...|              Comedy|\n",
      "+-------+--------------------+--------------------+\n",
      "only showing top 5 rows\n",
      "\n"
     ]
    }
   ],
   "source": [
    "df_movies.show(5)"
   ]
  },
  {
   "cell_type": "code",
   "execution_count": 9,
   "metadata": {
    "scrolled": true
   },
   "outputs": [
    {
     "name": "stdout",
     "output_type": "stream",
     "text": [
      "+------+-------+------+---------+\n",
      "|userId|movieId|rating|timestamp|\n",
      "+------+-------+------+---------+\n",
      "|     1|      1|   4.0|964982703|\n",
      "|     1|      3|   4.0|964981247|\n",
      "|     1|      6|   4.0|964982224|\n",
      "|     1|     47|   5.0|964983815|\n",
      "|     1|     50|   5.0|964982931|\n",
      "+------+-------+------+---------+\n",
      "only showing top 5 rows\n",
      "\n"
     ]
    }
   ],
   "source": [
    "df_ratings.show(5)"
   ]
  },
  {
   "cell_type": "code",
   "execution_count": 10,
   "metadata": {},
   "outputs": [
    {
     "name": "stdout",
     "output_type": "stream",
     "text": [
      "+-------+-------+------+\n",
      "|movieId| imdbId|tmdbId|\n",
      "+-------+-------+------+\n",
      "|      1|0114709|   862|\n",
      "|      2|0113497|  8844|\n",
      "|      3|0113228| 15602|\n",
      "|      4|0114885| 31357|\n",
      "|      5|0113041| 11862|\n",
      "+-------+-------+------+\n",
      "only showing top 5 rows\n",
      "\n"
     ]
    }
   ],
   "source": [
    "df_links.show(5)"
   ]
  },
  {
   "cell_type": "code",
   "execution_count": 11,
   "metadata": {},
   "outputs": [
    {
     "name": "stdout",
     "output_type": "stream",
     "text": [
      "+------+-------+---------------+----------+\n",
      "|userId|movieId|            tag| timestamp|\n",
      "+------+-------+---------------+----------+\n",
      "|     2|  60756|          funny|1445714994|\n",
      "|     2|  60756|Highly quotable|1445714996|\n",
      "|     2|  60756|   will ferrell|1445714992|\n",
      "|     2|  89774|   Boxing story|1445715207|\n",
      "|     2|  89774|            MMA|1445715200|\n",
      "+------+-------+---------------+----------+\n",
      "only showing top 5 rows\n",
      "\n"
     ]
    }
   ],
   "source": [
    "df_tags.show(5)"
   ]
  },
  {
   "cell_type": "code",
   "execution_count": 12,
   "metadata": {},
   "outputs": [
    {
     "data": {
      "text/plain": [
       "100836"
      ]
     },
     "execution_count": 12,
     "metadata": {},
     "output_type": "execute_result"
    }
   ],
   "source": [
    "df_ratings.count()"
   ]
  },
  {
   "cell_type": "code",
   "execution_count": 13,
   "metadata": {},
   "outputs": [
    {
     "name": "stdout",
     "output_type": "stream",
     "text": [
      "+------+-----+\n",
      "|userId|count|\n",
      "+------+-----+\n",
      "|   296|   27|\n",
      "|   467|   22|\n",
      "|   125|  360|\n",
      "|   451|   34|\n",
      "|     7|  152|\n",
      "+------+-----+\n",
      "only showing top 5 rows\n",
      "\n"
     ]
    }
   ],
   "source": [
    "uniq_user_df = df_ratings.groupBy(\"userId\").count()\n",
    "uniq_user_df.show(5)"
   ]
  },
  {
   "cell_type": "code",
   "execution_count": 14,
   "metadata": {},
   "outputs": [
    {
     "name": "stdout",
     "output_type": "stream",
     "text": [
      "+-------+-----+\n",
      "|movieId|count|\n",
      "+-------+-----+\n",
      "|    296|  307|\n",
      "|   1090|   63|\n",
      "| 115713|   28|\n",
      "|   3210|   42|\n",
      "|  88140|   32|\n",
      "+-------+-----+\n",
      "only showing top 5 rows\n",
      "\n"
     ]
    }
   ],
   "source": [
    "uniq_movie_df = df_ratings.groupBy(\"movieId\").count()\n",
    "uniq_movie_df.show(5)"
   ]
  },
  {
   "cell_type": "code",
   "execution_count": 15,
   "metadata": {},
   "outputs": [],
   "source": [
    "temp1 = uniq_user_df.agg({\"count\":\"min\"}).collect()[0][0]\n",
    "temp2 = uniq_movie_df.agg({\"count\":\"min\"}).collect()[0][0]\n",
    "#temp1 = uniq_user_df.to_pandas_on_spark()[\"count\"].min() \n",
    "#temp2 = uniq_movie_df.to_pandas_on_spark()[\"count\"].min() "
   ]
  },
  {
   "cell_type": "code",
   "execution_count": 16,
   "metadata": {},
   "outputs": [
    {
     "name": "stdout",
     "output_type": "stream",
     "text": [
      "For the users that rated movies and the movies that were rated:\n",
      "Minimum number of ratings per user is 20\n",
      "Minimum number of rarings per movie is 1\n"
     ]
    }
   ],
   "source": [
    "print(\"For the users that rated movies and the movies that were rated:\")\n",
    "print(\"Minimum number of ratings per user is {}\".format(temp1))\n",
    "print(\"Minimum number of rarings per movie is {}\".format(temp2))"
   ]
  },
  {
   "cell_type": "code",
   "execution_count": 17,
   "metadata": {},
   "outputs": [],
   "source": [
    "temp1 = uniq_movie_df.filter(uniq_movie_df[\"count\"]==\"1\").count()\n",
    "#temp1 = (uniq_movie_df.to_pandas_on_spark()[\"count\"]==1).sum() \n",
    "temp2 = df_ratings.select(\"movieId\").distinct().count()"
   ]
  },
  {
   "cell_type": "code",
   "execution_count": 18,
   "metadata": {},
   "outputs": [
    {
     "name": "stdout",
     "output_type": "stream",
     "text": [
      "3446 out of 9724 movies were rated by one user\n"
     ]
    }
   ],
   "source": [
    "print(\"{} out of {} movies were rated by one user\".format(temp1, temp2))"
   ]
  },
  {
   "cell_type": "markdown",
   "metadata": {},
   "source": [
    "## 2. OLAP"
   ]
  },
  {
   "cell_type": "markdown",
   "metadata": {},
   "source": [
    "***What is OLAP?*** <br>\n",
    "OLAP is an **Online Analytical Processing** system. The main focus of OLAP system is to **extract** and **analyze** large amounts of data with complex queries. This is designed for decision-making for knowledge workers. <br>\n",
    "\n",
    "***What is OLTP?*** <br>\n",
    "OLTP is an **Online Transaction Processing** system. The main focus of OLTP system is to record the current **Update**, **Insertion**, and **Deletion** while transaction. This is designed for day-to-day operations for end-users, such as ATM. <br>\n",
    "\n",
    "***OLAP vs. OLTP*** <br>\n",
    "OLAP and OLTP both are the online processing systems. The main difference between the two systems is analytical vs. transactional.  <br>\n",
    "OLAP is optimized for conducting complex data analysis. OLTP is optimized for managing transaction-oriented modification.  <br>\n",
    "\n",
    "[Comparison Chart](https://techdifferences.com/difference-between-oltp-and-olap.html)\n"
   ]
  },
  {
   "cell_type": "markdown",
   "metadata": {},
   "source": [
    "***ETL*** <br>\n",
    "ETL is the force that joins OLTP and OLAP. The data from one or more OLTP databases is ingested into OLAP systems through a process called **Extraction, Transform, Load**. With an ETL tool, data can be collected from several sources and sent to a destination, such as an OLAP data warehouse, where it is queried by analytics for insights.  <br>\n",
    "More generally, ETL is the process data engineers use to extract data from different sources, transform the data into a usable and trusted resource, and load that data into the system end-users can access and make use of. <br>\n",
    "\n",
    "***ETL vs. Data Pipeline*** <br>\n",
    "ETL is usually a sub-process. Depending on the nature of the pipeline, ETL may be automated or may not be included at all. On the other hand, a data pipeline is broader in that it is the entire process involved in transporting data from one location to another.\n"
   ]
  },
  {
   "cell_type": "markdown",
   "metadata": {},
   "source": [
    "### Spark SQL"
   ]
  },
  {
   "cell_type": "code",
   "execution_count": 19,
   "metadata": {},
   "outputs": [],
   "source": [
    "df_movies.createOrReplaceTempView(\"movies\")\n",
    "df_ratings.createOrReplaceTempView(\"ratings\")\n",
    "df_links.createOrReplaceTempView(\"links\")\n",
    "df_tags.createOrReplaceTempView(\"tags\")"
   ]
  },
  {
   "cell_type": "markdown",
   "metadata": {},
   "source": [
    "**(1). The Number of Users**"
   ]
  },
  {
   "cell_type": "code",
   "execution_count": 20,
   "metadata": {},
   "outputs": [
    {
     "name": "stdout",
     "output_type": "stream",
     "text": [
      "+---------------+\n",
      "|number_of_users|\n",
      "+---------------+\n",
      "|            610|\n",
      "+---------------+\n",
      "\n"
     ]
    }
   ],
   "source": [
    "q1_result = spark.sql(\"SELECT count(distinct userId) AS number_of_users \\\n",
    "                       FROM ratings\")\n",
    "q1_result.show()"
   ]
  },
  {
   "cell_type": "markdown",
   "metadata": {},
   "source": [
    "**(2). The Number of Movies**"
   ]
  },
  {
   "cell_type": "code",
   "execution_count": 21,
   "metadata": {},
   "outputs": [
    {
     "name": "stdout",
     "output_type": "stream",
     "text": [
      "+----------------+\n",
      "|number_of_movies|\n",
      "+----------------+\n",
      "|            9742|\n",
      "+----------------+\n",
      "\n"
     ]
    }
   ],
   "source": [
    "q2_result = spark.sql(\"SELECT count(movieId) AS number_of_movies \\\n",
    "                       FROM movies\")\n",
    "q2_result.show()"
   ]
  },
  {
   "cell_type": "markdown",
   "metadata": {},
   "source": [
    "**(3). The Number of Rated Movies; List Unrated Movies**"
   ]
  },
  {
   "cell_type": "code",
   "execution_count": 22,
   "metadata": {},
   "outputs": [
    {
     "name": "stdout",
     "output_type": "stream",
     "text": [
      "+----------------------+\n",
      "|number_of_rated_movies|\n",
      "+----------------------+\n",
      "|                  9724|\n",
      "+----------------------+\n",
      "\n"
     ]
    }
   ],
   "source": [
    "q3_result1 = spark.sql(\"SELECT count(distinct movieId) AS number_of_rated_movies \\\n",
    "                        FROM ratings\")\n",
    "# q3_result1=spark.sql(\"SELECT count(movieId) AS number_of_rated_moives \\\n",
    "#                       FROM movies WHERE movieID IN \\\n",
    "#                       (SELECT movieId FROM ratings)\")\n",
    "q3_result1.show()"
   ]
  },
  {
   "cell_type": "code",
   "execution_count": 23,
   "metadata": {},
   "outputs": [
    {
     "name": "stdout",
     "output_type": "stream",
     "text": [
      "+-------+--------------------+\n",
      "|movieId|               title|\n",
      "+-------+--------------------+\n",
      "|   1076|Innocents, The (1...|\n",
      "|   2939|      Niagara (1953)|\n",
      "|   3338|For All Mankind (...|\n",
      "|   3456|Color of Paradise...|\n",
      "|   4194|I Know Where I'm ...|\n",
      "|   5721|  Chosen, The (1981)|\n",
      "|   6668|Road Home, The (W...|\n",
      "|   6849|      Scrooge (1970)|\n",
      "|   7020|        Proof (1991)|\n",
      "|   7792|Parallax View, Th...|\n",
      "|   8765|This Gun for Hire...|\n",
      "|  25855|Roaring Twenties,...|\n",
      "|  26085|Mutiny on the Bou...|\n",
      "|  30892|In the Realms of ...|\n",
      "|  32160|Twentieth Century...|\n",
      "|  32371|Call Northside 77...|\n",
      "|  34482|Browning Version,...|\n",
      "|  85565|  Chalet Girl (2011)|\n",
      "+-------+--------------------+\n",
      "\n"
     ]
    }
   ],
   "source": [
    "q3_result2 = spark.sql(\"SELECT movieId, title \\\n",
    "                        FROM movies WHERE movieId NOT IN \\\n",
    "                        (SELECT movieID FROM ratings)\")\n",
    "q3_result2.show()"
   ]
  },
  {
   "cell_type": "markdown",
   "metadata": {},
   "source": [
    "**(4). List Movie Genres**"
   ]
  },
  {
   "cell_type": "code",
   "execution_count": 24,
   "metadata": {},
   "outputs": [
    {
     "name": "stdout",
     "output_type": "stream",
     "text": [
      "+------------------+\n",
      "|            genres|\n",
      "+------------------+\n",
      "|(no genres listed)|\n",
      "|            Action|\n",
      "|         Adventure|\n",
      "|         Animation|\n",
      "|          Children|\n",
      "|            Comedy|\n",
      "|             Crime|\n",
      "|       Documentary|\n",
      "|             Drama|\n",
      "|           Fantasy|\n",
      "|         Film-Noir|\n",
      "|            Horror|\n",
      "|              IMAX|\n",
      "|           Musical|\n",
      "|           Mystery|\n",
      "|           Romance|\n",
      "|            Sci-Fi|\n",
      "|          Thriller|\n",
      "|               War|\n",
      "|           Western|\n",
      "+------------------+\n",
      "\n"
     ]
    }
   ],
   "source": [
    "q4_result = spark.sql(\"SELECT distinct EXPLODE(SPLIT(genres,'[|]')) AS genres \\\n",
    "                       FROM movies \\\n",
    "                       ORDER by 1\")\n",
    "q4_result.show()"
   ]
  },
  {
   "cell_type": "markdown",
   "metadata": {},
   "source": [
    "**(5). Movies for Each Genre**"
   ]
  },
  {
   "cell_type": "code",
   "execution_count": 25,
   "metadata": {},
   "outputs": [
    {
     "name": "stdout",
     "output_type": "stream",
     "text": [
      "+------------------+----------------+\n",
      "|            genres|number_of_movies|\n",
      "+------------------+----------------+\n",
      "|             Drama|            4361|\n",
      "|            Comedy|            3756|\n",
      "|          Thriller|            1894|\n",
      "|            Action|            1828|\n",
      "|           Romance|            1596|\n",
      "|         Adventure|            1263|\n",
      "|             Crime|            1199|\n",
      "|            Sci-Fi|             980|\n",
      "|            Horror|             978|\n",
      "|           Fantasy|             779|\n",
      "|          Children|             664|\n",
      "|         Animation|             611|\n",
      "|           Mystery|             573|\n",
      "|       Documentary|             440|\n",
      "|               War|             382|\n",
      "|           Musical|             334|\n",
      "|           Western|             167|\n",
      "|              IMAX|             158|\n",
      "|         Film-Noir|              87|\n",
      "|(no genres listed)|              34|\n",
      "+------------------+----------------+\n",
      "\n"
     ]
    }
   ],
   "source": [
    "q5_result1 = spark.sql(\"SELECT genres, count(movieID) AS number_of_movies \\\n",
    "                        FROM (SELECT distinct EXPLODE(SPLIT(genres,'[|]')) AS genres, movieId FROM movies) \\\n",
    "                        GROUP by 1 ORDER by 2 DESC\")\n",
    "q5_result1.show()"
   ]
  },
  {
   "cell_type": "code",
   "execution_count": 26,
   "metadata": {},
   "outputs": [
    {
     "name": "stdout",
     "output_type": "stream",
     "text": [
      "+------------------+--------------------+\n",
      "|            genres|      list_of_movies|\n",
      "+------------------+--------------------+\n",
      "|             Crime|Stealing Rembrand...|\n",
      "|           Romance|Vampire in Brookl...|\n",
      "|          Thriller|Element of Crime,...|\n",
      "|         Adventure|Ice Age: Collisio...|\n",
      "|             Drama|Airport '77 (1977...|\n",
      "|               War|General, The (192...|\n",
      "|       Documentary|The Barkley Marat...|\n",
      "|           Fantasy|Masters of the Un...|\n",
      "|           Mystery|Before and After ...|\n",
      "|           Musical|U2: Rattle and Hu...|\n",
      "|         Animation|Ice Age: Collisio...|\n",
      "|         Film-Noir|Rififi (Du rififi...|\n",
      "|(no genres listed)|T2 3-D: Battle Ac...|\n",
      "|              IMAX|Harry Potter and ...|\n",
      "|            Horror|Underworld: Rise ...|\n",
      "|           Western|Man Who Shot Libe...|\n",
      "|            Comedy|Hysteria (2011),H...|\n",
      "|          Children|Ice Age: Collisio...|\n",
      "|            Action|Stealing Rembrand...|\n",
      "|            Sci-Fi|Push (2009),SORI:...|\n",
      "+------------------+--------------------+\n",
      "\n"
     ]
    }
   ],
   "source": [
    "q5_result2 = spark.sql(\"SELECT genres, concat_ws(',', collect_set(title)) AS list_of_movies \\\n",
    "                        FROM (SELECT distinct EXPLODE(SPLIT(genres,'[|]')) AS genres, title FROM movies) \\\n",
    "                        GROUP by 1\")\n",
    "q5_result2.show()"
   ]
  },
  {
   "cell_type": "markdown",
   "metadata": {},
   "source": [
    "## 3. Data Preprocessing"
   ]
  },
  {
   "cell_type": "code",
   "execution_count": 27,
   "metadata": {},
   "outputs": [
    {
     "name": "stdout",
     "output_type": "stream",
     "text": [
      "+------+-------+------+---------+\n",
      "|userId|movieId|rating|timestamp|\n",
      "+------+-------+------+---------+\n",
      "|     1|      1|   4.0|964982703|\n",
      "|     1|      3|   4.0|964981247|\n",
      "|     1|      6|   4.0|964982224|\n",
      "|     1|     47|   5.0|964983815|\n",
      "|     1|     50|   5.0|964982931|\n",
      "+------+-------+------+---------+\n",
      "only showing top 5 rows\n",
      "\n"
     ]
    }
   ],
   "source": [
    "df_ratings.show(5)"
   ]
  },
  {
   "cell_type": "code",
   "execution_count": 28,
   "metadata": {},
   "outputs": [],
   "source": [
    "# drop unnecessary columns\n",
    "movie_ratings = df_ratings.drop(\"timestamp\")"
   ]
  },
  {
   "cell_type": "code",
   "execution_count": 29,
   "metadata": {},
   "outputs": [
    {
     "data": {
      "text/plain": [
       "[('userId', 'string'), ('movieId', 'string'), ('rating', 'string')]"
      ]
     },
     "execution_count": 29,
     "metadata": {},
     "output_type": "execute_result"
    }
   ],
   "source": [
    "movie_ratings.dtypes"
   ]
  },
  {
   "cell_type": "code",
   "execution_count": 30,
   "metadata": {},
   "outputs": [],
   "source": [
    "# convert data type\n",
    "movie_ratings = movie_ratings.withColumn(\"userId\", movie_ratings[\"userId\"].cast(IntegerType()))\n",
    "movie_ratings = movie_ratings.withColumn(\"movieId\", movie_ratings[\"movieId\"].cast(IntegerType()))\n",
    "movie_ratings = movie_ratings.withColumn(\"rating\", movie_ratings[\"rating\"].cast(FloatType()))"
   ]
  },
  {
   "cell_type": "code",
   "execution_count": 31,
   "metadata": {
    "scrolled": true
   },
   "outputs": [
    {
     "name": "stdout",
     "output_type": "stream",
     "text": [
      "+------+-------+------+\n",
      "|userId|movieId|rating|\n",
      "+------+-------+------+\n",
      "|     1|      1|   4.0|\n",
      "|     1|      3|   4.0|\n",
      "|     1|      6|   4.0|\n",
      "|     1|     47|   5.0|\n",
      "|     1|     50|   5.0|\n",
      "+------+-------+------+\n",
      "only showing top 5 rows\n",
      "\n"
     ]
    }
   ],
   "source": [
    "movie_ratings.show(5)"
   ]
  },
  {
   "cell_type": "code",
   "execution_count": 32,
   "metadata": {},
   "outputs": [],
   "source": [
    "hist_rating = movie_ratings.select(\"rating\").groupBy(\"rating\").count().toPandas()"
   ]
  },
  {
   "cell_type": "code",
   "execution_count": 33,
   "metadata": {},
   "outputs": [
    {
     "data": {
      "image/png": "[encoded data removed]",
      "text/plain": [
       "<Figure size 640x480 with 1 Axes>"
      ]
     },
     "metadata": {},
     "output_type": "display_data"
    },
    {
     "data": {
      "text/plain": [
       "<ggplot: (8770968705221)>"
      ]
     },
     "execution_count": 33,
     "metadata": {},
     "output_type": "execute_result"
    }
   ],
   "source": [
    "gg = p9.ggplot(hist_rating)\n",
    "gg += p9.aes(x='rating', y='count')\n",
    "gg += p9.geom_bar(stat=\"identity\", fill=\"steelblue\")\n",
    "gg += p9.labels.ggtitle('Rating Distribution')\n",
    "gg += p9.xlab('Rating') + p9.ylab('Count')\n",
    "gg += p9.scale_x_continuous(breaks=np.arange(0,6,0.5))\n",
    "gg"
   ]
  },
  {
   "cell_type": "code",
   "execution_count": 34,
   "metadata": {},
   "outputs": [],
   "source": [
    "# create training and testing sets\n",
    "(train, test) = movie_ratings.randomSplit([0.8,0.2])"
   ]
  },
  {
   "cell_type": "markdown",
   "metadata": {},
   "source": [
    "## 4. Model Selection"
   ]
  },
  {
   "cell_type": "markdown",
   "metadata": {},
   "source": [
    "### Spark ML - ALS"
   ]
  },
  {
   "cell_type": "markdown",
   "metadata": {},
   "source": [
    "Pipeline components: <br>\n",
    "***Transformers*** <br>\n",
    "A Transformer includes feature transformers and learned models. Technically, a Transformer implements a method transform(), which **converts one DataFrame into another**, generally by appending one or more columns.<br>\n",
    "***Estimators*** <br>\n",
    "An Estimator involves the concept of a learning algorithm or any algorithm that fits or trains on data. Technically, an Estimator implements a method fit(), which **accepts a DataFrame and produces a Model on it**."
   ]
  },
  {
   "cell_type": "markdown",
   "metadata": {},
   "source": [
    "***Explicit vs. Implicit Feedback***\n",
    "\n",
    "The standard approach to matrix factorization-based collaborative filtering treats the entries in the user-item matrix as explicit preferences given by the user to the item, for example, users giving ratings to movies. <br>\n",
    "\n",
    "It is common in many real-world use cases to only have access to implicit feedback (e.g. views, clicks, purchases, likes, shares, etc). Essentially, instead of trying to model the matrix of ratings directly, this approach treats the data as numbers representing the strength in observations of user actions. Those numbers are then related to the level of confidence in observed user preferences, rather than explicit ratings given to items. The model then tries to find latent factors that can be used to predict the expected preference of a user for an item. <br>\n",
    "\n",
    "[Implicit Collaborative Filtering](https://medium.com/radon-dev/als-implicit-collaborative-filtering-5ed653ba39fe)\n",
    "\n",
    "[Alpha in Implicit Collaborative Filtering](http://yifanhu.net/PUB/cf.pdf)"
   ]
  },
  {
   "cell_type": "markdown",
   "metadata": {},
   "source": [
    "***Cold-start strategy*** <br>\n",
    "\n",
    "It is common to encounter users and/or items in the test dataset that were not present during training the model. This typically occurs in two scenarios: <br>\n",
    "\n",
    "* In production, for new users or items that have no rating history and on which the model has not been trained (this is the “cold start problem”). <br>\n",
    "\n",
    "* During cross-validation, the data is split between training and evaluation sets. It is actually common to encounter users and/or items in the evaluation set that are not in the training set\n",
    "\n",
    "By default, Spark assigns NaN predictions during transform() when a user and/or item factor is not present in the model. This can be useful in a production system, since it indicates a new user or item, and so the system can make a decision on some fallback to use as the prediction. <br>\n",
    "\n",
    "However, this is undesirable during cross-validation, since any NaN predicted values will result in NaN results for the evaluation metric. This makes model selection impossible. <br>\n",
    "\n",
    "Spark allows users to set the coldStartStrategy parameter to “drop” in order to drop any rows in the DataFrame of predictions that contain NaN values. The evaluation metric will then be computed over the non-NaN data and will be valid. <br>\n"
   ]
  },
  {
   "cell_type": "code",
   "execution_count": 35,
   "metadata": {},
   "outputs": [],
   "source": [
    "# create ALS model\n",
    "\n",
    "# rank: the number of latent factors in the model (defaults to 10)\n",
    "# maxIter: the maximum number of iterations to run (defaults to 10)\n",
    "# regParam: the regularization parameter in ALS (defaults to 1.0)\n",
    "# implicitPrefs: whether to use the explicit feedback ALS variant or\n",
    "#                or one adapted for implicit feedback data (defaults\n",
    "#                to false which means using explicit feedback)\n",
    "# alpha: paramether applicable to the implicit feedback variant of ALS\n",
    "#        that governs the baseline confidence in preference observations\n",
    "#        (defaults to 1.0)\n",
    "\n",
    "als = ALS(userCol=\"userId\", itemCol=\"movieId\", ratingCol=\"rating\",\n",
    "          coldStartStrategy=\"drop\",\n",
    "          seed=1991)"
   ]
  },
  {
   "cell_type": "code",
   "execution_count": 36,
   "metadata": {},
   "outputs": [],
   "source": [
    "# tune model using ParamGridBuilder\n",
    "paramGrid = (ParamGridBuilder()\n",
    "             .addGrid(als.maxIter, [1, 5, 10])\n",
    "             .addGrid(als.rank, [5, 10, 15])\n",
    "             .addGrid(als.regParam, [0.01, 0.1, 0.5, 1])\n",
    "             .build())"
   ]
  },
  {
   "cell_type": "code",
   "execution_count": 37,
   "metadata": {},
   "outputs": [],
   "source": [
    "# define evaluator as RMSE\n",
    "evaluator = RegressionEvaluator(metricName=\"rmse\",\n",
    "                                labelCol=\"rating\",\n",
    "                                predictionCol=\"prediction\")"
   ]
  },
  {
   "cell_type": "code",
   "execution_count": 38,
   "metadata": {},
   "outputs": [],
   "source": [
    "# build cross validation\n",
    "cv = CrossValidator(estimator=als, \n",
    "                    estimatorParamMaps=paramGrid, \n",
    "                    evaluator=evaluator,\n",
    "                    numFolds=5, seed=1991)"
   ]
  },
  {
   "cell_type": "code",
   "execution_count": 39,
   "metadata": {},
   "outputs": [],
   "source": [
    "# fit als model to training data\n",
    "cv_model = cv.fit(train)"
   ]
  },
  {
   "cell_type": "code",
   "execution_count": 40,
   "metadata": {},
   "outputs": [],
   "source": [
    "# extract best model from the tuning exercise using ParamGridBuilder\n",
    "best_model = cv_model.bestModel"
   ]
  },
  {
   "cell_type": "markdown",
   "metadata": {},
   "source": [
    "## 5. Model Evaluation "
   ]
  },
  {
   "cell_type": "code",
   "execution_count": 41,
   "metadata": {},
   "outputs": [],
   "source": [
    "# generate and evaluate predictions using RMSE\n",
    "predictions = best_model.transform(test)\n",
    "rmse = evaluator.evaluate(predictions)"
   ]
  },
  {
   "cell_type": "code",
   "execution_count": 43,
   "metadata": {},
   "outputs": [
    {
     "name": "stdout",
     "output_type": "stream",
     "text": [
      "+------+-------+------+----------+\n",
      "|userId|movieId|rating|prediction|\n",
      "+------+-------+------+----------+\n",
      "|   597|    471|   2.0| 4.2227035|\n",
      "|   597|   2366|   5.0| 3.9531033|\n",
      "|   108|   1959|   5.0| 3.7222388|\n",
      "|    34|   3997|   2.0| 0.5044399|\n",
      "|   368|   2366|   4.0| 3.1997702|\n",
      "+------+-------+------+----------+\n",
      "only showing top 5 rows\n",
      "\n"
     ]
    }
   ],
   "source": [
    "predictions.show(5)"
   ]
  },
  {
   "cell_type": "code",
   "execution_count": 44,
   "metadata": {},
   "outputs": [
    {
     "name": "stdout",
     "output_type": "stream",
     "text": [
      "RMSE = 0.6105223084059328\n"
     ]
    }
   ],
   "source": [
    "predictions_alldata = best_model.transform(movie_ratings)\n",
    "rmse = evaluator.evaluate(predictions_alldata)\n",
    "print(\"RMSE = \" + str(rmse))"
   ]
  },
  {
   "cell_type": "code",
   "execution_count": 45,
   "metadata": {},
   "outputs": [],
   "source": [
    "predictions_alldata.createOrReplaceTempView(\"alldata\")"
   ]
  },
  {
   "cell_type": "code",
   "execution_count": 46,
   "metadata": {},
   "outputs": [
    {
     "name": "stdout",
     "output_type": "stream",
     "text": [
      "+------+-------+------+----------+\n",
      "|userId|movieId|rating|prediction|\n",
      "+------+-------+------+----------+\n",
      "|   463|   1088|   3.5| 3.3933322|\n",
      "|   137|   1580|   3.5|  3.262342|\n",
      "|   580|   1580|   4.0|  3.676123|\n",
      "|   580|   3175|   2.5| 3.5508008|\n",
      "|   580|  44022|   3.5| 3.2996948|\n",
      "+------+-------+------+----------+\n",
      "only showing top 5 rows\n",
      "\n"
     ]
    }
   ],
   "source": [
    "spark.sql(\"SELECT * FROM alldata\").show(5)"
   ]
  },
  {
   "cell_type": "code",
   "execution_count": 47,
   "metadata": {},
   "outputs": [
    {
     "name": "stdout",
     "output_type": "stream",
     "text": [
      "+-------+--------------------+--------------------+\n",
      "|movieId|               title|              genres|\n",
      "+-------+--------------------+--------------------+\n",
      "|      1|    Toy Story (1995)|Adventure|Animati...|\n",
      "|      2|      Jumanji (1995)|Adventure|Childre...|\n",
      "|      3|Grumpier Old Men ...|      Comedy|Romance|\n",
      "|      4|Waiting to Exhale...|Comedy|Drama|Romance|\n",
      "|      5|Father of the Bri...|              Comedy|\n",
      "+-------+--------------------+--------------------+\n",
      "only showing top 5 rows\n",
      "\n"
     ]
    }
   ],
   "source": [
    "spark.sql(\"SELECT * FROM movies\").show(5)"
   ]
  },
  {
   "cell_type": "code",
   "execution_count": 48,
   "metadata": {},
   "outputs": [
    {
     "name": "stdout",
     "output_type": "stream",
     "text": [
      "+-------+--------------------+--------------------+------+-------+------+----------+\n",
      "|movieId|               title|              genres|userId|movieId|rating|prediction|\n",
      "+-------+--------------------+--------------------+------+-------+------+----------+\n",
      "|   1088|Dirty Dancing (1987)|Drama|Musical|Rom...|   463|   1088|   3.5| 3.3933322|\n",
      "|   1580|Men in Black (a.k...|Action|Comedy|Sci-Fi|   137|   1580|   3.5|  3.262342|\n",
      "|   1580|Men in Black (a.k...|Action|Comedy|Sci-Fi|   580|   1580|   4.0|  3.676123|\n",
      "|   3175| Galaxy Quest (1999)|Adventure|Comedy|...|   580|   3175|   2.5| 3.5508008|\n",
      "|  44022|Ice Age 2: The Me...|Adventure|Animati...|   580|  44022|   3.5| 3.2996948|\n",
      "+-------+--------------------+--------------------+------+-------+------+----------+\n",
      "only showing top 5 rows\n",
      "\n"
     ]
    }
   ],
   "source": [
    "spark.sql(\"SELECT * FROM movies \\\n",
    "           JOIN alldata ON \\\n",
    "           movies.movieId=alldata.movieId\").show(5)"
   ]
  },
  {
   "cell_type": "markdown",
   "metadata": {},
   "source": [
    "## 6. Model Application: Recommend Movies to Users "
   ]
  },
  {
   "cell_type": "markdown",
   "metadata": {},
   "source": [
    "Users with ID 575 <br>\n",
    "Users with ID 232 <br>"
   ]
  },
  {
   "cell_type": "code",
   "execution_count": 58,
   "metadata": {},
   "outputs": [],
   "source": [
    "# generate top 10 movie recommendations for each user\n",
    "userRecs = best_model.recommendForAllUsers(10)"
   ]
  },
  {
   "cell_type": "code",
   "execution_count": 59,
   "metadata": {},
   "outputs": [
    {
     "name": "stdout",
     "output_type": "stream",
     "text": [
      "+------+--------------------+\n",
      "|userId|     recommendations|\n",
      "+------+--------------------+\n",
      "|     1|[{5915, 5.653569}...|\n",
      "|     3|[{6835, 4.902745}...|\n",
      "|     5|[{2693, 4.942243}...|\n",
      "|     6|[{3404, 4.878174}...|\n",
      "|     9|[{1232, 4.9389243...|\n",
      "+------+--------------------+\n",
      "only showing top 5 rows\n",
      "\n"
     ]
    }
   ],
   "source": [
    "userRecs.show(5)"
   ]
  },
  {
   "cell_type": "code",
   "execution_count": 51,
   "metadata": {},
   "outputs": [
    {
     "name": "stdout",
     "output_type": "stream",
     "text": [
      "+-------+--------------------+\n",
      "|movieId|     recommendations|\n",
      "+-------+--------------------+\n",
      "|      1|[{43, 5.269853}, ...|\n",
      "|     12|[{558, 4.2132874}...|\n",
      "|     13|[{43, 4.1564035},...|\n",
      "|     22|[{53, 4.559867}, ...|\n",
      "|     26|[{35, 4.4933414},...|\n",
      "+-------+--------------------+\n",
      "only showing top 5 rows\n",
      "\n"
     ]
    }
   ],
   "source": [
    "# generate top 10 user recommendations for each movie\n",
    "movieRecs = best_model.recommendForAllItems(10)\n",
    "movieRecs.show(5)"
   ]
  },
  {
   "cell_type": "code",
   "execution_count": 52,
   "metadata": {},
   "outputs": [
    {
     "name": "stdout",
     "output_type": "stream",
     "text": [
      "+-------+--------------------+--------------------+\n",
      "|movieId|               title|              genres|\n",
      "+-------+--------------------+--------------------+\n",
      "|      1|    Toy Story (1995)|Adventure|Animati...|\n",
      "|      2|      Jumanji (1995)|Adventure|Childre...|\n",
      "|      3|Grumpier Old Men ...|      Comedy|Romance|\n",
      "|      4|Waiting to Exhale...|Comedy|Drama|Romance|\n",
      "|      5|Father of the Bri...|              Comedy|\n",
      "+-------+--------------------+--------------------+\n",
      "only showing top 5 rows\n",
      "\n"
     ]
    }
   ],
   "source": [
    "df_movies.show(5)"
   ]
  },
  {
   "cell_type": "code",
   "execution_count": 53,
   "metadata": {},
   "outputs": [],
   "source": [
    "def movieRecommendation(top_k, user_id):\n",
    "    recs_list = []\n",
    "    userRecs = best_model.recommendForAllUsers(top_k)\n",
    "    userIdRecs_ks = userRecs.filter(userRecs.userId==user_id).to_pandas_on_spark()\n",
    "    userIdRecs_list = userIdRecs_ks[\"recommendations\"].to_list()[0]\n",
    "    for recs in userIdRecs_list:\n",
    "        recs_list.append(str(recs[0]))\n",
    "    return df_movies.filter(df_movies.movieId.isin(recs_list)).to_pandas_on_spark()"
   ]
  },
  {
   "cell_type": "code",
   "execution_count": 54,
   "metadata": {},
   "outputs": [
    {
     "name": "stdout",
     "output_type": "stream",
     "text": [
      "The 5 movies recommended for user with id '575' are as follows:\n"
     ]
    },
    {
     "data": {
      "text/html": [
       "<div>\n",
       "<style scoped>\n",
       "    .dataframe tbody tr th:only-of-type {\n",
       "        vertical-align: middle;\n",
       "    }\n",
       "\n",
       "    .dataframe tbody tr th {\n",
       "        vertical-align: top;\n",
       "    }\n",
       "\n",
       "    .dataframe thead th {\n",
       "        text-align: right;\n",
       "    }\n",
       "</style>\n",
       "<table border=\"1\" class=\"dataframe\">\n",
       "  <thead>\n",
       "    <tr style=\"text-align: right;\">\n",
       "      <th></th>\n",
       "      <th>movieId</th>\n",
       "      <th>title</th>\n",
       "      <th>genres</th>\n",
       "    </tr>\n",
       "  </thead>\n",
       "  <tbody>\n",
       "    <tr>\n",
       "      <th>0</th>\n",
       "      <td>260</td>\n",
       "      <td>Star Wars: Episode IV - A New Hope (1977)</td>\n",
       "      <td>Action|Adventure|Sci-Fi</td>\n",
       "    </tr>\n",
       "    <tr>\n",
       "      <th>1</th>\n",
       "      <td>319</td>\n",
       "      <td>Shallow Grave (1994)</td>\n",
       "      <td>Comedy|Drama|Thriller</td>\n",
       "    </tr>\n",
       "    <tr>\n",
       "      <th>2</th>\n",
       "      <td>858</td>\n",
       "      <td>Godfather, The (1972)</td>\n",
       "      <td>Crime|Drama</td>\n",
       "    </tr>\n",
       "    <tr>\n",
       "      <th>3</th>\n",
       "      <td>1196</td>\n",
       "      <td>Star Wars: Episode V - The Empire Strikes Back...</td>\n",
       "      <td>Action|Adventure|Sci-Fi</td>\n",
       "    </tr>\n",
       "    <tr>\n",
       "      <th>4</th>\n",
       "      <td>1250</td>\n",
       "      <td>Bridge on the River Kwai, The (1957)</td>\n",
       "      <td>Adventure|Drama|War</td>\n",
       "    </tr>\n",
       "    <tr>\n",
       "      <th>5</th>\n",
       "      <td>5490</td>\n",
       "      <td>The Big Bus (1976)</td>\n",
       "      <td>Action|Comedy</td>\n",
       "    </tr>\n",
       "    <tr>\n",
       "      <th>6</th>\n",
       "      <td>5915</td>\n",
       "      <td>Victory (a.k.a. Escape to Victory) (1981)</td>\n",
       "      <td>Action|Drama|War</td>\n",
       "    </tr>\n",
       "    <tr>\n",
       "      <th>7</th>\n",
       "      <td>6818</td>\n",
       "      <td>Come and See (Idi i smotri) (1985)</td>\n",
       "      <td>Drama|War</td>\n",
       "    </tr>\n",
       "    <tr>\n",
       "      <th>8</th>\n",
       "      <td>51931</td>\n",
       "      <td>Reign Over Me (2007)</td>\n",
       "      <td>Drama</td>\n",
       "    </tr>\n",
       "    <tr>\n",
       "      <th>9</th>\n",
       "      <td>132333</td>\n",
       "      <td>Seve (2014)</td>\n",
       "      <td>Documentary|Drama</td>\n",
       "    </tr>\n",
       "  </tbody>\n",
       "</table>\n",
       "</div>"
      ],
      "text/plain": [
       "  movieId                                                  title                   genres\n",
       "0     260              Star Wars: Episode IV - A New Hope (1977)  Action|Adventure|Sci-Fi\n",
       "1     319                                   Shallow Grave (1994)    Comedy|Drama|Thriller\n",
       "2     858                                  Godfather, The (1972)              Crime|Drama\n",
       "3    1196  Star Wars: Episode V - The Empire Strikes Back (1980)  Action|Adventure|Sci-Fi\n",
       "4    1250                   Bridge on the River Kwai, The (1957)      Adventure|Drama|War\n",
       "5    5490                                     The Big Bus (1976)            Action|Comedy\n",
       "6    5915              Victory (a.k.a. Escape to Victory) (1981)         Action|Drama|War\n",
       "7    6818                     Come and See (Idi i smotri) (1985)                Drama|War\n",
       "8   51931                                   Reign Over Me (2007)                    Drama\n",
       "9  132333                                            Seve (2014)        Documentary|Drama"
      ]
     },
     "execution_count": 54,
     "metadata": {},
     "output_type": "execute_result"
    }
   ],
   "source": [
    "print(\"The 5 movies recommended for user with id '575' are as follows:\")\n",
    "movieRecommendation(top_k=10, user_id=575)"
   ]
  },
  {
   "cell_type": "code",
   "execution_count": 55,
   "metadata": {},
   "outputs": [
    {
     "name": "stdout",
     "output_type": "stream",
     "text": [
      "The 10 movies recommended for user with id '232' are as follows:\n"
     ]
    },
    {
     "data": {
      "text/html": [
       "<div>\n",
       "<style scoped>\n",
       "    .dataframe tbody tr th:only-of-type {\n",
       "        vertical-align: middle;\n",
       "    }\n",
       "\n",
       "    .dataframe tbody tr th {\n",
       "        vertical-align: top;\n",
       "    }\n",
       "\n",
       "    .dataframe thead th {\n",
       "        text-align: right;\n",
       "    }\n",
       "</style>\n",
       "<table border=\"1\" class=\"dataframe\">\n",
       "  <thead>\n",
       "    <tr style=\"text-align: right;\">\n",
       "      <th></th>\n",
       "      <th>movieId</th>\n",
       "      <th>title</th>\n",
       "      <th>genres</th>\n",
       "    </tr>\n",
       "  </thead>\n",
       "  <tbody>\n",
       "    <tr>\n",
       "      <th>0</th>\n",
       "      <td>51931</td>\n",
       "      <td>Reign Over Me (2007)</td>\n",
       "      <td>Drama</td>\n",
       "    </tr>\n",
       "    <tr>\n",
       "      <th>1</th>\n",
       "      <td>86781</td>\n",
       "      <td>Incendies (2010)</td>\n",
       "      <td>Drama|Mystery|War</td>\n",
       "    </tr>\n",
       "    <tr>\n",
       "      <th>2</th>\n",
       "      <td>104780</td>\n",
       "      <td>Mystery of the Third Planet, The (Tayna tretey...</td>\n",
       "      <td>Adventure|Animation|Sci-Fi</td>\n",
       "    </tr>\n",
       "    <tr>\n",
       "      <th>3</th>\n",
       "      <td>130970</td>\n",
       "      <td>George Carlin: Life Is Worth Losing (2005)</td>\n",
       "      <td>Comedy</td>\n",
       "    </tr>\n",
       "    <tr>\n",
       "      <th>4</th>\n",
       "      <td>142020</td>\n",
       "      <td>Oscar (1967)</td>\n",
       "      <td>Comedy</td>\n",
       "    </tr>\n",
       "    <tr>\n",
       "      <th>5</th>\n",
       "      <td>147250</td>\n",
       "      <td>The Adventures of Sherlock Holmes and Doctor W...</td>\n",
       "      <td>(no genres listed)</td>\n",
       "    </tr>\n",
       "    <tr>\n",
       "      <th>6</th>\n",
       "      <td>147300</td>\n",
       "      <td>Adventures Of Sherlock Holmes And Dr. Watson: ...</td>\n",
       "      <td>Crime|Mystery</td>\n",
       "    </tr>\n",
       "    <tr>\n",
       "      <th>7</th>\n",
       "      <td>147330</td>\n",
       "      <td>Sherlock Holmes and Dr. Watson: Acquaintance (...</td>\n",
       "      <td>Crime</td>\n",
       "    </tr>\n",
       "    <tr>\n",
       "      <th>8</th>\n",
       "      <td>159811</td>\n",
       "      <td>The Bremen Town Musicians (1969)</td>\n",
       "      <td>Animation|Drama|Fantasy</td>\n",
       "    </tr>\n",
       "    <tr>\n",
       "      <th>9</th>\n",
       "      <td>175431</td>\n",
       "      <td>Bobik Visiting Barbos (1977)</td>\n",
       "      <td>Animation|Comedy</td>\n",
       "    </tr>\n",
       "  </tbody>\n",
       "</table>\n",
       "</div>"
      ],
      "text/plain": [
       "  movieId                                                                                  title                      genres\n",
       "0   51931                                                                   Reign Over Me (2007)                       Drama\n",
       "1   86781                                                                       Incendies (2010)           Drama|Mystery|War\n",
       "2  104780                         Mystery of the Third Planet, The (Tayna tretey planety) (1981)  Adventure|Animation|Sci-Fi\n",
       "3  130970                                             George Carlin: Life Is Worth Losing (2005)                      Comedy\n",
       "4  142020                                                                           Oscar (1967)                      Comedy\n",
       "5  147250                                    The Adventures of Sherlock Holmes and Doctor Watson          (no genres listed)\n",
       "6  147300  Adventures Of Sherlock Holmes And Dr. Watson: The Twentieth Century Approaches (1986)               Crime|Mystery\n",
       "7  147330                                    Sherlock Holmes and Dr. Watson: Acquaintance (1979)                       Crime\n",
       "8  159811                                                       The Bremen Town Musicians (1969)     Animation|Drama|Fantasy\n",
       "9  175431                                                           Bobik Visiting Barbos (1977)            Animation|Comedy"
      ]
     },
     "execution_count": 55,
     "metadata": {},
     "output_type": "execute_result"
    }
   ],
   "source": [
    "print(\"The 10 movies recommended for user with id '232' are as follows:\")\n",
    "movieRecommendation(top_k=10, user_id=232)"
   ]
  },
  {
   "cell_type": "markdown",
   "metadata": {},
   "source": [
    "## 7. Model Application: Find Similar Movies "
   ]
  },
  {
   "cell_type": "markdown",
   "metadata": {},
   "source": [
    "Movies with ID 463 <br>\n",
    "Movies with ID 471 <br>"
   ]
  },
  {
   "cell_type": "code",
   "execution_count": 60,
   "metadata": {},
   "outputs": [],
   "source": [
    "itemFactors=best_model.itemFactors"
   ]
  },
  {
   "cell_type": "code",
   "execution_count": 61,
   "metadata": {},
   "outputs": [
    {
     "name": "stdout",
     "output_type": "stream",
     "text": [
      "+---+-----------------------------------------------------------------------------------------------------------------------------------------------------------------------------------------+\n",
      "|id |features                                                                                                                                                                                 |\n",
      "+---+-----------------------------------------------------------------------------------------------------------------------------------------------------------------------------------------+\n",
      "|10 |[-0.6457395, -0.22321345, -0.6062841, 0.9525815, -0.19517425, 0.05154608, -0.36017135, 0.27226412, 0.8612797, -0.67159164, -0.5995275, -0.16090529, -0.69174737, 0.45058945, -0.39000058]|\n",
      "|20 |[-0.057551075, -0.92649025, -0.6774009, 0.39859068, 0.28499115, -0.13840652, 0.18075271, 0.8649549, 0.45194462, -0.9055602, -0.22489735, -0.04528264, -0.31150037, 0.7444006, 0.12156328]|\n",
      "|30 |[0.06797546, -0.25225285, -0.16724613, 0.36911994, -0.15507413, 0.08557179, -0.76456046, 0.85407925, 0.5512823, 0.1193676, 0.17092882, 0.15918116, 0.71406287, 0.12848015, -1.0704128]   |\n",
      "|40 |[-0.6945125, 0.011503079, -0.22930422, 0.1342823, -0.07989855, -0.30123132, -0.548255, -0.34760568, 0.76277685, -0.6353416, 0.30837327, 0.6515218, -0.40050817, 0.15564178, -0.18823169] |\n",
      "|50 |[-0.5277788, -0.5759513, -1.1067451, 0.8574458, 0.06250104, -0.21689728, -0.50403917, 0.58002126, 0.9983936, -0.7675049, -0.09094113, -0.27517632, -0.07573112, 0.768954, -0.71622586]   |\n",
      "+---+-----------------------------------------------------------------------------------------------------------------------------------------------------------------------------------------+\n",
      "only showing top 5 rows\n",
      "\n"
     ]
    }
   ],
   "source": [
    "itemFactors.show(5, False)"
   ]
  },
  {
   "cell_type": "code",
   "execution_count": 62,
   "metadata": {},
   "outputs": [],
   "source": [
    "def similarMovies(top_k, movie_id, matrix):\n",
    "    try:\n",
    "        movieFeature=itemFactors.filter(itemFactors.id==movie_id).to_pandas_on_spark()[\"features\"].to_list()[0]\n",
    "    except:\n",
    "        return \"There is no movie with id \" + str(movie_id)\n",
    "    \n",
    "    if matrix==\"cosine_similarity\":\n",
    "        similarMovie=pd.DataFrame(columns=(\"movieId\", \"cosine_similarity\"))\n",
    "        for id, feature in itemFactors.to_pandas_on_spark().to_numpy():\n",
    "            \"\"\"\n",
    "            Method 1: cosine similarity\n",
    "            The larger the cosine value, the smaller the two-feature vectors' angle, the similar the movies\n",
    "            This similarity only considers the direction\n",
    "            e.g. movie 1 with factor [1,2,3] and movie 2 with factor [2,4,6] are considered same\n",
    "            \"\"\"\n",
    "            cs=np.dot(movieFeature, feature)/(np.linalg.norm(movieFeature)*np.linalg.norm(feature))\n",
    "            \n",
    "            similarMovie=similarMovie.append({\"movieId\": str(id), \"cosine_similarity\":cs}, ignore_index=True)\n",
    "        similarMovie_top=similarMovie.sort_values(by=['cosine_similarity'],ascending = False)[1:(top_k+1)]\n",
    "        joint=similarMovie_top.merge(df_movies.toPandas(), left_on='movieId', right_on = 'movieId', how = 'inner')\n",
    "    if matrix==\"euclidean_distance\":\n",
    "        similarMovie=pd.DataFrame(columns=(\"movieId\", \"euclidean_distance\"))\n",
    "        for id, feature in itemFactors.to_pandas_on_spark().to_numpy():\n",
    "            \"\"\"\n",
    "            Method 2: euclidean distance based similarity\n",
    "            The smaller the euclidean distance between the factors, the similar the movies\n",
    "            This similarity considers the actual strength\n",
    "            e.g. movie 1 with factor [1,2,3] and movie 2 with factor [2,4,6] are considered not similar enough\n",
    "            \"\"\"\n",
    "            ed=np.linalg.norm(np.array(movieFeature)-np.array(feature))\n",
    "            \n",
    "            similarMovie=similarMovie.append({\"movieId\": str(id), \"euclidean_distance\":ed}, ignore_index=True)\n",
    "        similarMovie_top=similarMovie.sort_values(by=['euclidean_distance'])[1:(top_k+1)]\n",
    "        joint=similarMovie_top.merge(df_movies.toPandas(), left_on='movieId', right_on = 'movieId', how = 'inner')\n",
    "    return joint[['movieId','title','genres']]"
   ]
  },
  {
   "cell_type": "code",
   "execution_count": 63,
   "metadata": {},
   "outputs": [
    {
     "data": {
      "text/plain": [
       "'There is no movie with id 463'"
      ]
     },
     "execution_count": 63,
     "metadata": {},
     "output_type": "execute_result"
    }
   ],
   "source": [
    "similarMovies(10, 463, matrix=\"cosine_similarity\")"
   ]
  },
  {
   "cell_type": "code",
   "execution_count": 64,
   "metadata": {},
   "outputs": [
    {
     "data": {
      "text/html": [
       "<div>\n",
       "<style scoped>\n",
       "    .dataframe tbody tr th:only-of-type {\n",
       "        vertical-align: middle;\n",
       "    }\n",
       "\n",
       "    .dataframe tbody tr th {\n",
       "        vertical-align: top;\n",
       "    }\n",
       "\n",
       "    .dataframe thead th {\n",
       "        text-align: right;\n",
       "    }\n",
       "</style>\n",
       "<table border=\"1\" class=\"dataframe\">\n",
       "  <thead>\n",
       "    <tr style=\"text-align: right;\">\n",
       "      <th></th>\n",
       "      <th>movieId</th>\n",
       "      <th>title</th>\n",
       "      <th>genres</th>\n",
       "    </tr>\n",
       "  </thead>\n",
       "  <tbody>\n",
       "    <tr>\n",
       "      <th>0</th>\n",
       "      <td>1914</td>\n",
       "      <td>Smoke Signals (1998)</td>\n",
       "      <td>Comedy|Drama</td>\n",
       "    </tr>\n",
       "    <tr>\n",
       "      <th>1</th>\n",
       "      <td>1643</td>\n",
       "      <td>Mrs. Brown (a.k.a. Her Majesty, Mrs. Brown) (1...</td>\n",
       "      <td>Drama|Romance</td>\n",
       "    </tr>\n",
       "    <tr>\n",
       "      <th>2</th>\n",
       "      <td>14</td>\n",
       "      <td>Nixon (1995)</td>\n",
       "      <td>Drama</td>\n",
       "    </tr>\n",
       "    <tr>\n",
       "      <th>3</th>\n",
       "      <td>7352</td>\n",
       "      <td>Wilbur Wants to Kill Himself (2002)</td>\n",
       "      <td>Comedy|Drama|Romance</td>\n",
       "    </tr>\n",
       "    <tr>\n",
       "      <th>4</th>\n",
       "      <td>60293</td>\n",
       "      <td>Wackness, The (2008)</td>\n",
       "      <td>Comedy|Drama|Romance</td>\n",
       "    </tr>\n",
       "    <tr>\n",
       "      <th>5</th>\n",
       "      <td>44889</td>\n",
       "      <td>Reefer Madness: The Movie Musical (2005)</td>\n",
       "      <td>Comedy|Drama|Musical</td>\n",
       "    </tr>\n",
       "    <tr>\n",
       "      <th>6</th>\n",
       "      <td>3098</td>\n",
       "      <td>Natural, The (1984)</td>\n",
       "      <td>Drama</td>\n",
       "    </tr>\n",
       "    <tr>\n",
       "      <th>7</th>\n",
       "      <td>7122</td>\n",
       "      <td>King of Hearts (1966)</td>\n",
       "      <td>Comedy|Drama|War</td>\n",
       "    </tr>\n",
       "    <tr>\n",
       "      <th>8</th>\n",
       "      <td>34164</td>\n",
       "      <td>Happy Endings (2005)</td>\n",
       "      <td>Comedy|Drama</td>\n",
       "    </tr>\n",
       "    <tr>\n",
       "      <th>9</th>\n",
       "      <td>902</td>\n",
       "      <td>Breakfast at Tiffany's (1961)</td>\n",
       "      <td>Drama|Romance</td>\n",
       "    </tr>\n",
       "  </tbody>\n",
       "</table>\n",
       "</div>"
      ],
      "text/plain": [
       "  movieId                                              title  \\\n",
       "0    1914                               Smoke Signals (1998)   \n",
       "1    1643  Mrs. Brown (a.k.a. Her Majesty, Mrs. Brown) (1...   \n",
       "2      14                                       Nixon (1995)   \n",
       "3    7352                Wilbur Wants to Kill Himself (2002)   \n",
       "4   60293                               Wackness, The (2008)   \n",
       "5   44889           Reefer Madness: The Movie Musical (2005)   \n",
       "6    3098                                Natural, The (1984)   \n",
       "7    7122                              King of Hearts (1966)   \n",
       "8   34164                               Happy Endings (2005)   \n",
       "9     902                      Breakfast at Tiffany's (1961)   \n",
       "\n",
       "                 genres  \n",
       "0          Comedy|Drama  \n",
       "1         Drama|Romance  \n",
       "2                 Drama  \n",
       "3  Comedy|Drama|Romance  \n",
       "4  Comedy|Drama|Romance  \n",
       "5  Comedy|Drama|Musical  \n",
       "6                 Drama  \n",
       "7      Comedy|Drama|War  \n",
       "8          Comedy|Drama  \n",
       "9         Drama|Romance  "
      ]
     },
     "execution_count": 64,
     "metadata": {},
     "output_type": "execute_result"
    }
   ],
   "source": [
    "similarMovies(10, 471, matrix=\"cosine_similarity\")"
   ]
  },
  {
   "cell_type": "code",
   "execution_count": 65,
   "metadata": {},
   "outputs": [
    {
     "data": {
      "text/html": [
       "<div>\n",
       "<style scoped>\n",
       "    .dataframe tbody tr th:only-of-type {\n",
       "        vertical-align: middle;\n",
       "    }\n",
       "\n",
       "    .dataframe tbody tr th {\n",
       "        vertical-align: top;\n",
       "    }\n",
       "\n",
       "    .dataframe thead th {\n",
       "        text-align: right;\n",
       "    }\n",
       "</style>\n",
       "<table border=\"1\" class=\"dataframe\">\n",
       "  <thead>\n",
       "    <tr style=\"text-align: right;\">\n",
       "      <th></th>\n",
       "      <th>movieId</th>\n",
       "      <th>title</th>\n",
       "      <th>genres</th>\n",
       "    </tr>\n",
       "  </thead>\n",
       "  <tbody>\n",
       "    <tr>\n",
       "      <th>0</th>\n",
       "      <td>1914</td>\n",
       "      <td>Smoke Signals (1998)</td>\n",
       "      <td>Comedy|Drama</td>\n",
       "    </tr>\n",
       "    <tr>\n",
       "      <th>1</th>\n",
       "      <td>1643</td>\n",
       "      <td>Mrs. Brown (a.k.a. Her Majesty, Mrs. Brown) (1...</td>\n",
       "      <td>Drama|Romance</td>\n",
       "    </tr>\n",
       "    <tr>\n",
       "      <th>2</th>\n",
       "      <td>14</td>\n",
       "      <td>Nixon (1995)</td>\n",
       "      <td>Drama</td>\n",
       "    </tr>\n",
       "    <tr>\n",
       "      <th>3</th>\n",
       "      <td>60293</td>\n",
       "      <td>Wackness, The (2008)</td>\n",
       "      <td>Comedy|Drama|Romance</td>\n",
       "    </tr>\n",
       "    <tr>\n",
       "      <th>4</th>\n",
       "      <td>44889</td>\n",
       "      <td>Reefer Madness: The Movie Musical (2005)</td>\n",
       "      <td>Comedy|Drama|Musical</td>\n",
       "    </tr>\n",
       "    <tr>\n",
       "      <th>5</th>\n",
       "      <td>3098</td>\n",
       "      <td>Natural, The (1984)</td>\n",
       "      <td>Drama</td>\n",
       "    </tr>\n",
       "    <tr>\n",
       "      <th>6</th>\n",
       "      <td>7122</td>\n",
       "      <td>King of Hearts (1966)</td>\n",
       "      <td>Comedy|Drama|War</td>\n",
       "    </tr>\n",
       "    <tr>\n",
       "      <th>7</th>\n",
       "      <td>7352</td>\n",
       "      <td>Wilbur Wants to Kill Himself (2002)</td>\n",
       "      <td>Comedy|Drama|Romance</td>\n",
       "    </tr>\n",
       "    <tr>\n",
       "      <th>8</th>\n",
       "      <td>902</td>\n",
       "      <td>Breakfast at Tiffany's (1961)</td>\n",
       "      <td>Drama|Romance</td>\n",
       "    </tr>\n",
       "    <tr>\n",
       "      <th>9</th>\n",
       "      <td>1449</td>\n",
       "      <td>Waiting for Guffman (1996)</td>\n",
       "      <td>Comedy</td>\n",
       "    </tr>\n",
       "  </tbody>\n",
       "</table>\n",
       "</div>"
      ],
      "text/plain": [
       "  movieId                                              title  \\\n",
       "0    1914                               Smoke Signals (1998)   \n",
       "1    1643  Mrs. Brown (a.k.a. Her Majesty, Mrs. Brown) (1...   \n",
       "2      14                                       Nixon (1995)   \n",
       "3   60293                               Wackness, The (2008)   \n",
       "4   44889           Reefer Madness: The Movie Musical (2005)   \n",
       "5    3098                                Natural, The (1984)   \n",
       "6    7122                              King of Hearts (1966)   \n",
       "7    7352                Wilbur Wants to Kill Himself (2002)   \n",
       "8     902                      Breakfast at Tiffany's (1961)   \n",
       "9    1449                         Waiting for Guffman (1996)   \n",
       "\n",
       "                 genres  \n",
       "0          Comedy|Drama  \n",
       "1         Drama|Romance  \n",
       "2                 Drama  \n",
       "3  Comedy|Drama|Romance  \n",
       "4  Comedy|Drama|Musical  \n",
       "5                 Drama  \n",
       "6      Comedy|Drama|War  \n",
       "7  Comedy|Drama|Romance  \n",
       "8         Drama|Romance  \n",
       "9                Comedy  "
      ]
     },
     "execution_count": 65,
     "metadata": {},
     "output_type": "execute_result"
    }
   ],
   "source": [
    "similarMovies(10, 471, matrix=\"euclidean_distance\")"
   ]
  },
  {
   "cell_type": "code",
   "execution_count": null,
   "metadata": {},
   "outputs": [],
   "source": []
  }
 ],
 "metadata": {
  "kernelspec": {
   "display_name": "Python 3 (ipykernel)",
   "language": "python",
   "name": "python3"
  },
  "language_info": {
   "codemirror_mode": {
    "name": "ipython",
    "version": 3
   },
   "file_extension": ".py",
   "mimetype": "text/x-python",
   "name": "python",
   "nbconvert_exporter": "python",
   "pygments_lexer": "ipython3",
   "version": "3.11.5"
  }
 },
 "nbformat": 4,
 "nbformat_minor": 2
}
